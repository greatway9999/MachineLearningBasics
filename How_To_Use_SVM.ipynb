{
 "cells": [
  {
   "cell_type": "markdown",
   "metadata": {},
   "source": [
    "# How do I use SVM\n",
    "\n",
    "關於SVM的介紹，請參考本篇文章 https://greatway9999.blogspot.com/2020/10/machine-learning-model-support-vector.html\n",
    "\n",
    "接著，希望能透過實作來驗證SVM的特性。驗證的問題摘要如下：\n",
    "\n",
    "###### 1.當資料非線性可分時，SVM表現如何?\n",
    "##### 2.當資料中具有重疊的資料點，SVM表現如何?\n",
    "##### 3.Outliers(離群值)對SVM有什麼影響呢?\n",
    "\n",
    "## 實作步驟\n",
    "本篇實作，以經典資料集Iris來驗證上述的疑問。\n",
    "* Step1.載入基本模組與讀取資料\n",
    "* Step2.將資料拆分成訓練資料集與測試資料集\n",
    "* Step3.資料前處理：正規化\n",
    "* Step4.PCA降維\n",
    "* Step5.模型訓練：使用不同的kernel\n",
    "* Step6.模型績效評估\n",
    "* Step7.模型訓練結果可視化\n",
    "* Step8.模型優化：參數調整\n"
   ]
  },
  {
   "cell_type": "markdown",
   "metadata": {},
   "source": [
    "### Step1.載入基本模組與讀取資料"
   ]
  },
  {
   "cell_type": "code",
   "execution_count": 1,
   "metadata": {},
   "outputs": [
    {
     "name": "stdout",
     "output_type": "stream",
     "text": [
      "target_names: ['setosa' 'versicolor' 'virginica']\n"
     ]
    },
    {
     "data": {
      "text/html": [
       "<div>\n",
       "<style scoped>\n",
       "    .dataframe tbody tr th:only-of-type {\n",
       "        vertical-align: middle;\n",
       "    }\n",
       "\n",
       "    .dataframe tbody tr th {\n",
       "        vertical-align: top;\n",
       "    }\n",
       "\n",
       "    .dataframe thead th {\n",
       "        text-align: right;\n",
       "    }\n",
       "</style>\n",
       "<table border=\"1\" class=\"dataframe\">\n",
       "  <thead>\n",
       "    <tr style=\"text-align: right;\">\n",
       "      <th></th>\n",
       "      <th>sepal length (cm)</th>\n",
       "      <th>sepal width (cm)</th>\n",
       "      <th>petal length (cm)</th>\n",
       "      <th>petal width (cm)</th>\n",
       "      <th>target</th>\n",
       "    </tr>\n",
       "  </thead>\n",
       "  <tbody>\n",
       "    <tr>\n",
       "      <th>0</th>\n",
       "      <td>5.1</td>\n",
       "      <td>3.5</td>\n",
       "      <td>1.4</td>\n",
       "      <td>0.2</td>\n",
       "      <td>0</td>\n",
       "    </tr>\n",
       "    <tr>\n",
       "      <th>1</th>\n",
       "      <td>4.9</td>\n",
       "      <td>3.0</td>\n",
       "      <td>1.4</td>\n",
       "      <td>0.2</td>\n",
       "      <td>0</td>\n",
       "    </tr>\n",
       "    <tr>\n",
       "      <th>2</th>\n",
       "      <td>4.7</td>\n",
       "      <td>3.2</td>\n",
       "      <td>1.3</td>\n",
       "      <td>0.2</td>\n",
       "      <td>0</td>\n",
       "    </tr>\n",
       "    <tr>\n",
       "      <th>3</th>\n",
       "      <td>4.6</td>\n",
       "      <td>3.1</td>\n",
       "      <td>1.5</td>\n",
       "      <td>0.2</td>\n",
       "      <td>0</td>\n",
       "    </tr>\n",
       "    <tr>\n",
       "      <th>4</th>\n",
       "      <td>5.0</td>\n",
       "      <td>3.6</td>\n",
       "      <td>1.4</td>\n",
       "      <td>0.2</td>\n",
       "      <td>0</td>\n",
       "    </tr>\n",
       "  </tbody>\n",
       "</table>\n",
       "</div>"
      ],
      "text/plain": [
       "   sepal length (cm)  sepal width (cm)  petal length (cm)  petal width (cm)  \\\n",
       "0                5.1               3.5                1.4               0.2   \n",
       "1                4.9               3.0                1.4               0.2   \n",
       "2                4.7               3.2                1.3               0.2   \n",
       "3                4.6               3.1                1.5               0.2   \n",
       "4                5.0               3.6                1.4               0.2   \n",
       "\n",
       "   target  \n",
       "0       0  \n",
       "1       0  \n",
       "2       0  \n",
       "3       0  \n",
       "4       0  "
      ]
     },
     "execution_count": 1,
     "metadata": {},
     "output_type": "execute_result"
    }
   ],
   "source": [
    "#載入基本套件\n",
    "import numpy as np #數值處理的套件\n",
    "import pandas as pd #資料結構化的套件，可想像成資料科學界中的 Excel\n",
    "import matplotlib.pyplot as plt #繪圖套件\n",
    "\n",
    "#在Jupyter notebook中內嵌繪圖\n",
    "%matplotlib inline \n",
    "\n",
    "#讀取資料\n",
    "from sklearn import datasets #sklearn在 datasets 這個模組中有內建許多經典資料集，Iris 就是其中一項，要使用 Iris，就要先 import datasets\n",
    "iris = datasets.load_iris() #從 datasets 讀入 Iris\n",
    "x = pd.DataFrame(iris['data'], columns=iris['feature_names']) #將 Iris 的特徵資料存到 x 變數\n",
    "print(\"target_names: \"+str(iris['target_names'])) #觀察所有類別標籤的名稱\n",
    "y = pd.DataFrame(iris['target'], columns=['target']) #將 Iris 的標籤資料存到 y 變數\n",
    "iris_data = pd.concat([x,y], axis=1) #將特徵資料與標籤資料併成同一份表格，觀察資料整體樣貌\n",
    "iris_data.head(5) #觀察前五筆資料"
   ]
  },
  {
   "cell_type": "markdown",
   "metadata": {},
   "source": [
    "### Step2.將資料拆分成訓練資料集與測試資料集"
   ]
  },
  {
   "cell_type": "code",
   "execution_count": 2,
   "metadata": {},
   "outputs": [
    {
     "data": {
      "text/html": [
       "<div>\n",
       "<style scoped>\n",
       "    .dataframe tbody tr th:only-of-type {\n",
       "        vertical-align: middle;\n",
       "    }\n",
       "\n",
       "    .dataframe tbody tr th {\n",
       "        vertical-align: top;\n",
       "    }\n",
       "\n",
       "    .dataframe thead th {\n",
       "        text-align: right;\n",
       "    }\n",
       "</style>\n",
       "<table border=\"1\" class=\"dataframe\">\n",
       "  <thead>\n",
       "    <tr style=\"text-align: right;\">\n",
       "      <th></th>\n",
       "      <th>sepal length (cm)</th>\n",
       "      <th>sepal width (cm)</th>\n",
       "      <th>petal length (cm)</th>\n",
       "      <th>petal width (cm)</th>\n",
       "    </tr>\n",
       "  </thead>\n",
       "  <tbody>\n",
       "    <tr>\n",
       "      <th>60</th>\n",
       "      <td>5.0</td>\n",
       "      <td>2.0</td>\n",
       "      <td>3.5</td>\n",
       "      <td>1.0</td>\n",
       "    </tr>\n",
       "    <tr>\n",
       "      <th>116</th>\n",
       "      <td>6.5</td>\n",
       "      <td>3.0</td>\n",
       "      <td>5.5</td>\n",
       "      <td>1.8</td>\n",
       "    </tr>\n",
       "    <tr>\n",
       "      <th>144</th>\n",
       "      <td>6.7</td>\n",
       "      <td>3.3</td>\n",
       "      <td>5.7</td>\n",
       "      <td>2.5</td>\n",
       "    </tr>\n",
       "    <tr>\n",
       "      <th>119</th>\n",
       "      <td>6.0</td>\n",
       "      <td>2.2</td>\n",
       "      <td>5.0</td>\n",
       "      <td>1.5</td>\n",
       "    </tr>\n",
       "    <tr>\n",
       "      <th>108</th>\n",
       "      <td>6.7</td>\n",
       "      <td>2.5</td>\n",
       "      <td>5.8</td>\n",
       "      <td>1.8</td>\n",
       "    </tr>\n",
       "  </tbody>\n",
       "</table>\n",
       "</div>"
      ],
      "text/plain": [
       "     sepal length (cm)  sepal width (cm)  petal length (cm)  petal width (cm)\n",
       "60                 5.0               2.0                3.5               1.0\n",
       "116                6.5               3.0                5.5               1.8\n",
       "144                6.7               3.3                5.7               2.5\n",
       "119                6.0               2.2                5.0               1.5\n",
       "108                6.7               2.5                5.8               1.8"
      ]
     },
     "execution_count": 2,
     "metadata": {},
     "output_type": "execute_result"
    }
   ],
   "source": [
    "from sklearn.model_selection import train_test_split #載入拆分資料的模組 train_test_split\n",
    "X_train, X_test, y_train, y_test = train_test_split(\n",
    "    iris_data[['sepal length (cm)','sepal width (cm)','petal length (cm)','petal width (cm)']], iris_data['target'], test_size=0.3, random_state=0) #將資料拆成訓練資料集(70%)與測試資料集(30%)\n",
    "X_train.head(5) #檢視前 5 筆的訓練資料"
   ]
  },
  {
   "cell_type": "markdown",
   "metadata": {},
   "source": [
    "### Step3.資料前處理：正規化"
   ]
  },
  {
   "cell_type": "code",
   "execution_count": 3,
   "metadata": {},
   "outputs": [
    {
     "data": {
      "text/plain": [
       "array([[-1.02366372, -2.37846268, -0.18295039, -0.29318114],\n",
       "       [ 0.69517462, -0.10190314,  0.93066067,  0.7372463 ],\n",
       "       [ 0.92435306,  0.58106472,  1.04202177,  1.63887031],\n",
       "       [ 0.1222285 , -1.92315077,  0.6522579 ,  0.35083601],\n",
       "       [ 0.92435306, -1.24018291,  1.09770233,  0.7372463 ]])"
      ]
     },
     "execution_count": 3,
     "metadata": {},
     "output_type": "execute_result"
    }
   ],
   "source": [
    "from sklearn.preprocessing import StandardScaler #載入資料標準化的模組\n",
    "sc = StandardScaler() #建立資料標準化之轉換器\n",
    "X_train_std = sc.fit_transform(X_train) #對 X_train 進行標準化轉換，將轉換後的值存入X_train_std\n",
    "X_test_std = sc.transform(X_test) #對 X_test 進行標準化轉換，將轉換後的值存入X_test_std\n",
    "X_train_std[0:5] #檢視前5筆正規化後的訓練資料"
   ]
  },
  {
   "cell_type": "markdown",
   "metadata": {},
   "source": [
    "### Step4.PCA降維"
   ]
  },
  {
   "cell_type": "code",
   "execution_count": 4,
   "metadata": {},
   "outputs": [
    {
     "data": {
      "image/png": "[encoded data removed]",
      "text/plain": [
       "<Figure size 432x288 with 1 Axes>"
      ]
     },
     "metadata": {
      "needs_background": "light"
     },
     "output_type": "display_data"
    }
   ],
   "source": [
    "#為方便訓練成果可視化成2維圖形，因此在此步驟使用 PCA 降維 (4個維度 -> 2個維度)\n",
    "\n",
    "from sklearn.decomposition import PCA #載入PCA模組\n",
    "pca = PCA(n_components=2) #n_components的參數設定為2，代表降成2個維度\n",
    "X_train_pca = pca.fit_transform(X_train_std) #對 X_train_std 進行PCA轉換，將轉換後的值存入X_train_pca\n",
    "X_test_pca = pca.transform(X_test_std) #對 X_test_std 進行PCA轉換，將轉換後的值存入X_test_pca\n",
    "\n",
    "        \n",
    "plt.scatter(X_train_pca[:, 0], X_train_pca[:, 1], c= y_train, label=\"PCA\") #繪製散佈圖\n",
    "plt.legend() #顯示圖示\n",
    "plt.show() #繪圖"
   ]
  },
  {
   "cell_type": "code",
   "execution_count": 5,
   "metadata": {},
   "outputs": [
    {
     "data": {
      "text/plain": [
       "SVC(C=1.0, break_ties=False, cache_size=200, class_weight=None, coef0=0.0,\n",
       "    decision_function_shape='ovr', degree=3, gamma='scale', kernel='poly',\n",
       "    max_iter=-1, probability=True, random_state=None, shrinking=True, tol=0.001,\n",
       "    verbose=False)"
      ]
     },
     "execution_count": 5,
     "metadata": {},
     "output_type": "execute_result"
    }
   ],
   "source": [
    "from sklearn.svm import SVC #載入SVM模型的模組SVC\n",
    "linear_svm = SVC(kernel='linear', probability=True) #建立 kernel 為 linear 的 SVM 模型\n",
    "linear_svm.fit(X_train_pca, y_train) #將訓練資料餵入模型，進行訓練\n",
    "\n",
    "rbf_svm = SVC(kernel='rbf', probability=True) #建立 kernel 為 rbf 的 SVM 模型\n",
    "rbf_svm.fit(X_train_pca, y_train)\n",
    "\n",
    "poly_svm = SVC(kernel='poly', probability=True) #建立 kernel 為 poly 的 SVM 模型\n",
    "poly_svm.fit(X_train_pca, y_train)"
   ]
  },
  {
   "cell_type": "markdown",
   "metadata": {},
   "source": [
    "### Step6.模型績效評估"
   ]
  },
  {
   "cell_type": "code",
   "execution_count": 6,
   "metadata": {},
   "outputs": [
    {
     "name": "stdout",
     "output_type": "stream",
     "text": [
      "linear_svm Train Accuracy: 0.92\n",
      "linear_svm Test Accuracy: 0.91\n",
      "rbf_svm Train Accuracy: 0.92\n",
      "rbf_svm Test Accuracy: 0.93\n",
      "poly_svm Train Accuracy: 0.90\n",
      "poly_svm Test Accuracy: 0.89\n"
     ]
    }
   ],
   "source": [
    "#顯示 kernel 為 linear 的 SVM 模型之訓練與測試資料之準確度\n",
    "print('linear_svm Train Accuracy: %.2f' % linear_svm.score(X_train_pca,y_train))\n",
    "print('linear_svm Test Accuracy: %.2f' % linear_svm.score(X_test_pca,y_test))\n",
    "\n",
    "#顯示 kernel 為 rbf 的 SVM 模型之訓練與測試資料之準確度\n",
    "print('rbf_svm Train Accuracy: %.2f' % rbf_svm.score(X_train_pca,y_train))\n",
    "print('rbf_svm Test Accuracy: %.2f' % rbf_svm.score(X_test_pca,y_test))\n",
    "\n",
    "#顯示 kernel 為 poly 的 SVM 模型之訓練與測試資料之準確度\n",
    "print('poly_svm Train Accuracy: %.2f' % poly_svm.score(X_train_pca,y_train))\n",
    "print('poly_svm Test Accuracy: %.2f' % poly_svm.score(X_test_pca,y_test))"
   ]
  },
  {
   "cell_type": "markdown",
   "metadata": {},
   "source": [
    "### Step7.模型訓練結果可視化"
   ]
  },
  {
   "cell_type": "code",
   "execution_count": 7,
   "metadata": {},
   "outputs": [],
   "source": [
    "from matplotlib.colors import ListedColormap #載入顏色映射模組\n",
    "\n",
    "#定義決策空間繪圖 function\n",
    "def plot_decision_regions(X, y, classifier, test_idx=None, resolution=0.02):\n",
    "\n",
    "    # setup marker generator and color map\n",
    "    markers = ('s', 'x', 'o', '^', 'v')\n",
    "    colors = ('red', 'blue', 'lightgreen', 'gray', 'cyan')\n",
    "    cmap = ListedColormap(colors[:len(np.unique(y))])\n",
    "\n",
    "    # plot the decision surface\n",
    "    x1_min, x1_max = X[:, 0].min() - 1, X[:, 0].max() + 1\n",
    "    x2_min, x2_max = X[:, 1].min() - 1, X[:, 1].max() + 1\n",
    "    xx1, xx2 = np.meshgrid(np.arange(x1_min, x1_max, resolution),\n",
    "                           np.arange(x2_min, x2_max, resolution))\n",
    "    Z = classifier.predict(np.array([xx1.ravel(), xx2.ravel()]).T)\n",
    "    Z = Z.reshape(xx1.shape)\n",
    "    plt.contourf(xx1, xx2, Z, alpha=0.4, cmap=cmap)\n",
    "    plt.xlim(xx1.min(), xx1.max())\n",
    "    plt.ylim(xx2.min(), xx2.max())\n",
    "\n",
    "    for idx, cl in enumerate(np.unique(y)):\n",
    "        plt.scatter(x=X[y == cl, 0], \n",
    "                    y=X[y == cl, 1],\n",
    "                    alpha=0.6, \n",
    "                    c=cmap(idx),\n",
    "                    edgecolor='black',\n",
    "                    marker=markers[idx], \n",
    "                    label=cl)\n",
    "\n",
    "    # highlight test samples\n",
    "    if test_idx:\n",
    "        # plot all samples\n",
    "        if not versiontuple(np.__version__) >= versiontuple('1.9.0'):\n",
    "            X_test, y_test = X[list(test_idx), :], y[list(test_idx)]\n",
    "            warnings.warn('Please update to NumPy 1.9.0 or newer')\n",
    "        else:\n",
    "            X_test, y_test = X[test_idx, :], y[test_idx]\n",
    "\n",
    "        plt.scatter(X_test[:, 0],\n",
    "                    X_test[:, 1],\n",
    "                    c='',\n",
    "                    alpha=1.0,\n",
    "                    edgecolor='black',\n",
    "                    linewidths=1,\n",
    "                    marker='o',\n",
    "                    s=55, label='test set')"
   ]
  },
  {
   "cell_type": "code",
   "execution_count": 8,
   "metadata": {},
   "outputs": [
    {
     "name": "stderr",
     "output_type": "stream",
     "text": [
      "'c' argument looks like a single numeric RGB or RGBA sequence, which should be avoided as value-mapping will have precedence in case its length matches with 'x' & 'y'.  Please use a 2-D array with a single row if you really want to specify the same RGB or RGBA value for all points.\n",
      "'c' argument looks like a single numeric RGB or RGBA sequence, which should be avoided as value-mapping will have precedence in case its length matches with 'x' & 'y'.  Please use a 2-D array with a single row if you really want to specify the same RGB or RGBA value for all points.\n",
      "'c' argument looks like a single numeric RGB or RGBA sequence, which should be avoided as value-mapping will have precedence in case its length matches with 'x' & 'y'.  Please use a 2-D array with a single row if you really want to specify the same RGB or RGBA value for all points.\n"
     ]
    },
    {
     "data": {
      "image/png": "[encoded data removed]",
      "text/plain": [
       "<Figure size 432x288 with 1 Axes>"
      ]
     },
     "metadata": {
      "needs_background": "light"
     },
     "output_type": "display_data"
    }
   ],
   "source": [
    "#繪製 kernel 為 linear 的 SVM 模型之分類成效\n",
    "plot_decision_regions(X_train_pca, y_train, classifier=linear_svm)\n",
    "plt.title('linear kernel')\n",
    "plt.legend(loc='upper left')\n",
    "plt.tight_layout()\n",
    "plt.show()"
   ]
  },
  {
   "cell_type": "code",
   "execution_count": 9,
   "metadata": {
    "scrolled": true
   },
   "outputs": [
    {
     "name": "stderr",
     "output_type": "stream",
     "text": [
      "'c' argument looks like a single numeric RGB or RGBA sequence, which should be avoided as value-mapping will have precedence in case its length matches with 'x' & 'y'.  Please use a 2-D array with a single row if you really want to specify the same RGB or RGBA value for all points.\n",
      "'c' argument looks like a single numeric RGB or RGBA sequence, which should be avoided as value-mapping will have precedence in case its length matches with 'x' & 'y'.  Please use a 2-D array with a single row if you really want to specify the same RGB or RGBA value for all points.\n",
      "'c' argument looks like a single numeric RGB or RGBA sequence, which should be avoided as value-mapping will have precedence in case its length matches with 'x' & 'y'.  Please use a 2-D array with a single row if you really want to specify the same RGB or RGBA value for all points.\n"
     ]
    },
    {
     "data": {
      "image/png": "[encoded data removed]",
      "text/plain": [
       "<Figure size 432x288 with 1 Axes>"
      ]
     },
     "metadata": {
      "needs_background": "light"
     },
     "output_type": "display_data"
    }
   ],
   "source": [
    "#繪製 kernel 為 rbf 的 SVM 模型之分類成效\n",
    "plot_decision_regions(X_train_pca, y_train, classifier=rbf_svm)\n",
    "plt.title('rbf kernel')\n",
    "plt.legend(loc='upper left')\n",
    "plt.tight_layout()\n",
    "plt.show()"
   ]
  },
  {
   "cell_type": "code",
   "execution_count": 10,
   "metadata": {},
   "outputs": [
    {
     "name": "stderr",
     "output_type": "stream",
     "text": [
      "'c' argument looks like a single numeric RGB or RGBA sequence, which should be avoided as value-mapping will have precedence in case its length matches with 'x' & 'y'.  Please use a 2-D array with a single row if you really want to specify the same RGB or RGBA value for all points.\n",
      "'c' argument looks like a single numeric RGB or RGBA sequence, which should be avoided as value-mapping will have precedence in case its length matches with 'x' & 'y'.  Please use a 2-D array with a single row if you really want to specify the same RGB or RGBA value for all points.\n",
      "'c' argument looks like a single numeric RGB or RGBA sequence, which should be avoided as value-mapping will have precedence in case its length matches with 'x' & 'y'.  Please use a 2-D array with a single row if you really want to specify the same RGB or RGBA value for all points.\n"
     ]
    },
    {
     "data": {
      "image/png": "[encoded data removed]",
      "text/plain": [
       "<Figure size 432x288 with 1 Axes>"
      ]
     },
     "metadata": {
      "needs_background": "light"
     },
     "output_type": "display_data"
    }
   ],
   "source": [
    "#繪製 kernel 為 poly 的 SVM 模型之分類成效\n",
    "plot_decision_regions(X_train_pca, y_train, classifier=poly_svm)\n",
    "plt.title('poly kernel')\n",
    "plt.legend(loc='upper left')\n",
    "plt.tight_layout()\n",
    "plt.show()"
   ]
  },
  {
   "cell_type": "markdown",
   "metadata": {},
   "source": [
    "### Step8.模型優化：參數調整"
   ]
  },
  {
   "cell_type": "markdown",
   "metadata": {},
   "source": [
    "從剛才的訓練成果來看，表現最好的是 kernel 為 rbf 的 SVM 模型，而 gamma 和 C 這兩個參數對於 kernel 為 rbf 的 SVM 模型有著顯著的影響，因此接下來會試著以這個參數調整來優化模型。"
   ]
  },
  {
   "cell_type": "code",
   "execution_count": 11,
   "metadata": {},
   "outputs": [
    {
     "name": "stdout",
     "output_type": "stream",
     "text": [
      "0.9254545454545454\n",
      "{'svc__C': 1.5000000000000002, 'svc__gamma': 0.2, 'svc__kernel': 'rbf'}\n"
     ]
    }
   ],
   "source": [
    "# 使用暴力搜尋的方法來找出最佳參數組合\n",
    "\n",
    "from sklearn.pipeline import make_pipeline #載入工作管線化模組 make_pipeline\n",
    "from sklearn.model_selection import GridSearchCV #載入暴力搜尋模組 GridSearchCV\n",
    "\n",
    "pipe_svc = make_pipeline(StandardScaler(),SVC(random_state=1)) #建立管線\n",
    "\n",
    "param_range = np.arange(0.1, 10, 0.1) #設定參數範圍為0.1~10，間格為0.1。\n",
    "\n",
    "#設定要暴力搜尋的參數類別\n",
    "param_grid = [\n",
    "              {'svc__C': param_range, \n",
    "               'svc__gamma': param_range, \n",
    "               'svc__kernel': ['rbf']}]\n",
    "\n",
    "#建立暴力搜尋模型\n",
    "gs = GridSearchCV(estimator=pipe_svc, \n",
    "                  param_grid=param_grid, \n",
    "                  scoring='accuracy', \n",
    "                  cv=10,\n",
    "                  n_jobs=-1)\n",
    "\n",
    "gs = gs.fit(X_train_pca, y_train) #將經過PCA後的資料餵入暴力搜尋模型\n",
    "print(gs.best_score_) #顯示最佳參數組合之模型準確率\n",
    "print(gs.best_params_) #顯示最佳參數組合"
   ]
  },
  {
   "cell_type": "code",
   "execution_count": 12,
   "metadata": {},
   "outputs": [
    {
     "name": "stdout",
     "output_type": "stream",
     "text": [
      "rbf_svm_tune Train Accuracy: 0.92\n",
      "rbf_svm_tune Test Accuracy: 0.91\n"
     ]
    }
   ],
   "source": [
    "#依照上述參數組合，建立一個新的 SVM 模型\n",
    "rbf_svm_tune = SVC(kernel='rbf', C = 1.5, gamma = 0.2, probability=True, random_state=1)\n",
    "\n",
    "rbf_svm_tune.fit(X_train_pca, y_train) #餵入資料進行訓練\n",
    "print('rbf_svm_tune Train Accuracy: %.2f' % rbf_svm_tune.score(X_train_pca,y_train)) #顯示訓練資料之準確度\n",
    "print('rbf_svm_tune Test Accuracy: %.2f' % rbf_svm_tune.score(X_test_pca,y_test)) #顯示測試資料之準確度"
   ]
  },
  {
   "cell_type": "code",
   "execution_count": 13,
   "metadata": {},
   "outputs": [
    {
     "name": "stderr",
     "output_type": "stream",
     "text": [
      "'c' argument looks like a single numeric RGB or RGBA sequence, which should be avoided as value-mapping will have precedence in case its length matches with 'x' & 'y'.  Please use a 2-D array with a single row if you really want to specify the same RGB or RGBA value for all points.\n",
      "'c' argument looks like a single numeric RGB or RGBA sequence, which should be avoided as value-mapping will have precedence in case its length matches with 'x' & 'y'.  Please use a 2-D array with a single row if you really want to specify the same RGB or RGBA value for all points.\n",
      "'c' argument looks like a single numeric RGB or RGBA sequence, which should be avoided as value-mapping will have precedence in case its length matches with 'x' & 'y'.  Please use a 2-D array with a single row if you really want to specify the same RGB or RGBA value for all points.\n"
     ]
    },
    {
     "data": {
      "image/png": "[encoded data removed]",
      "text/plain": [
       "<Figure size 432x288 with 1 Axes>"
      ]
     },
     "metadata": {
      "needs_background": "light"
     },
     "output_type": "display_data"
    }
   ],
   "source": [
    "# 繪製 rbf_svm_tune 模型的分類成效\n",
    "plot_decision_regions(X_train_pca, y_train, classifier=rbf_svm_tune)\n",
    "plt.legend(loc='upper left')\n",
    "plt.tight_layout()\n",
    "plt.show()"
   ]
  },
  {
   "cell_type": "markdown",
   "metadata": {},
   "source": [
    "## 結論\n",
    "#### 1.當資料非線性可分時，SVM表現如何? \n",
    "當資料非線性可分時，以kernel為linear之SVM模型進行分類，成效較差。以kernel為rbf之SVM模型進行分類，成效會較kernel為linear之SVM佳。\n",
    "\n",
    "#### 2.當資料中具有重疊的資料點，SVM表現如何? \n",
    "如圖所示，SVM在資料重疊的情況下，無法正確分類。\n",
    "\n",
    "#### 3.Outliers(離群值)對SVM有什麼影響呢?\n",
    "如圖所示，SVM的決策邊界會由各類別中離決策邊界最近的資料點決定，而非離群值。"
   ]
  },
  {
   "cell_type": "code",
   "execution_count": null,
   "metadata": {},
   "outputs": [],
   "source": []
  }
 ],
 "metadata": {
  "kernelspec": {
   "display_name": "Python 3",
   "language": "python",
   "name": "python3"
  },
  "language_info": {
   "codemirror_mode": {
    "name": "ipython",
    "version": 3
   },
   "file_extension": ".py",
   "mimetype": "text/x-python",
   "name": "python",
   "nbconvert_exporter": "python",
   "pygments_lexer": "ipython3",
   "version": "3.7.5"
  }
 },
 "nbformat": 4,
 "nbformat_minor": 2
}
